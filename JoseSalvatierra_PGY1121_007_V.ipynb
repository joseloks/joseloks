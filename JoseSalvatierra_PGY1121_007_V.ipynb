{
  "nbformat": 4,
  "nbformat_minor": 0,
  "metadata": {
    "colab": {
      "provenance": [],
      "authorship_tag": "ABX9TyMn9khEVb0qOs2zN4TVzINO",
      "include_colab_link": true
    },
    "kernelspec": {
      "name": "python3",
      "display_name": "Python 3"
    },
    "language_info": {
      "name": "python"
    }
  },
  "cells": [
    {
      "cell_type": "markdown",
      "metadata": {
        "id": "view-in-github",
        "colab_type": "text"
      },
      "source": [
        "<a href=\"https://colab.research.google.com/github/joseloks/joseloks/blob/main/JoseSalvatierra_PGY1121_007_V.ipynb\" target=\"_parent\"><img src=\"https://colab.research.google.com/assets/colab-badge.svg\" alt=\"Open In Colab\"/></a>"
      ]
    },
    {
      "cell_type": "code",
      "execution_count": 1,
      "metadata": {
        "colab": {
          "base_uri": "https://localhost:8080/",
          "height": 450
        },
        "id": "ieg4pIJ2t7Ab",
        "outputId": "63764610-1b0b-4bef-d886-337091e74f49"
      },
      "outputs": [
        {
          "output_type": "stream",
          "name": "stdout",
          "text": [
            "--- Menú ---\n",
            "1. Ver disponibilidad de lotes\n",
            "2. Seleccionar un lote\n",
            "3. Ver detalles del lote seleccionado\n",
            "4. Ver clientes\n",
            "5. Salir\n"
          ]
        },
        {
          "output_type": "error",
          "ename": "KeyboardInterrupt",
          "evalue": "ignored",
          "traceback": [
            "\u001b[0;31m---------------------------------------------------------------------------\u001b[0m",
            "\u001b[0;31mKeyboardInterrupt\u001b[0m                         Traceback (most recent call last)",
            "\u001b[0;32m<ipython-input-1-460601bd654a>\u001b[0m in \u001b[0;36m<cell line: 106>\u001b[0;34m()\u001b[0m\n\u001b[1;32m    104\u001b[0m \u001b[0;34m\u001b[0m\u001b[0m\n\u001b[1;32m    105\u001b[0m \u001b[0;31m# Ejecución del programa\u001b[0m\u001b[0;34m\u001b[0m\u001b[0;34m\u001b[0m\u001b[0m\n\u001b[0;32m--> 106\u001b[0;31m \u001b[0mfinal\u001b[0m\u001b[0;34m(\u001b[0m\u001b[0;34m)\u001b[0m\u001b[0;34m\u001b[0m\u001b[0;34m\u001b[0m\u001b[0m\n\u001b[0m",
            "\u001b[0;32m<ipython-input-1-460601bd654a>\u001b[0m in \u001b[0;36mfinal\u001b[0;34m()\u001b[0m\n\u001b[1;32m     81\u001b[0m         \u001b[0mprint\u001b[0m\u001b[0;34m(\u001b[0m\u001b[0;34m\"4. Ver clientes\"\u001b[0m\u001b[0;34m)\u001b[0m\u001b[0;34m\u001b[0m\u001b[0;34m\u001b[0m\u001b[0m\n\u001b[1;32m     82\u001b[0m         \u001b[0mprint\u001b[0m\u001b[0;34m(\u001b[0m\u001b[0;34m\"5. Salir\"\u001b[0m\u001b[0;34m)\u001b[0m\u001b[0;34m\u001b[0m\u001b[0;34m\u001b[0m\u001b[0m\n\u001b[0;32m---> 83\u001b[0;31m         \u001b[0mopcion\u001b[0m \u001b[0;34m=\u001b[0m \u001b[0minput\u001b[0m\u001b[0;34m(\u001b[0m\u001b[0;34m\"Ingrese su opción (1-5): \"\u001b[0m\u001b[0;34m)\u001b[0m\u001b[0;34m\u001b[0m\u001b[0;34m\u001b[0m\u001b[0m\n\u001b[0m\u001b[1;32m     84\u001b[0m \u001b[0;34m\u001b[0m\u001b[0m\n\u001b[1;32m     85\u001b[0m         \u001b[0;32mif\u001b[0m \u001b[0mopcion\u001b[0m \u001b[0;34m==\u001b[0m \u001b[0;34m'1'\u001b[0m\u001b[0;34m:\u001b[0m\u001b[0;34m\u001b[0m\u001b[0;34m\u001b[0m\u001b[0m\n",
            "\u001b[0;32m/usr/local/lib/python3.10/dist-packages/ipykernel/kernelbase.py\u001b[0m in \u001b[0;36mraw_input\u001b[0;34m(self, prompt)\u001b[0m\n\u001b[1;32m    849\u001b[0m                 \u001b[0;34m\"raw_input was called, but this frontend does not support input requests.\"\u001b[0m\u001b[0;34m\u001b[0m\u001b[0;34m\u001b[0m\u001b[0m\n\u001b[1;32m    850\u001b[0m             )\n\u001b[0;32m--> 851\u001b[0;31m         return self._input_request(str(prompt),\n\u001b[0m\u001b[1;32m    852\u001b[0m             \u001b[0mself\u001b[0m\u001b[0;34m.\u001b[0m\u001b[0m_parent_ident\u001b[0m\u001b[0;34m,\u001b[0m\u001b[0;34m\u001b[0m\u001b[0;34m\u001b[0m\u001b[0m\n\u001b[1;32m    853\u001b[0m             \u001b[0mself\u001b[0m\u001b[0;34m.\u001b[0m\u001b[0m_parent_header\u001b[0m\u001b[0;34m,\u001b[0m\u001b[0;34m\u001b[0m\u001b[0;34m\u001b[0m\u001b[0m\n",
            "\u001b[0;32m/usr/local/lib/python3.10/dist-packages/ipykernel/kernelbase.py\u001b[0m in \u001b[0;36m_input_request\u001b[0;34m(self, prompt, ident, parent, password)\u001b[0m\n\u001b[1;32m    893\u001b[0m             \u001b[0;32mexcept\u001b[0m \u001b[0mKeyboardInterrupt\u001b[0m\u001b[0;34m:\u001b[0m\u001b[0;34m\u001b[0m\u001b[0;34m\u001b[0m\u001b[0m\n\u001b[1;32m    894\u001b[0m                 \u001b[0;31m# re-raise KeyboardInterrupt, to truncate traceback\u001b[0m\u001b[0;34m\u001b[0m\u001b[0;34m\u001b[0m\u001b[0m\n\u001b[0;32m--> 895\u001b[0;31m                 \u001b[0;32mraise\u001b[0m \u001b[0mKeyboardInterrupt\u001b[0m\u001b[0;34m(\u001b[0m\u001b[0;34m\"Interrupted by user\"\u001b[0m\u001b[0;34m)\u001b[0m \u001b[0;32mfrom\u001b[0m \u001b[0;32mNone\u001b[0m\u001b[0;34m\u001b[0m\u001b[0;34m\u001b[0m\u001b[0m\n\u001b[0m\u001b[1;32m    896\u001b[0m             \u001b[0;32mexcept\u001b[0m \u001b[0mException\u001b[0m \u001b[0;32mas\u001b[0m \u001b[0me\u001b[0m\u001b[0;34m:\u001b[0m\u001b[0;34m\u001b[0m\u001b[0;34m\u001b[0m\u001b[0m\n\u001b[1;32m    897\u001b[0m                 \u001b[0mself\u001b[0m\u001b[0;34m.\u001b[0m\u001b[0mlog\u001b[0m\u001b[0;34m.\u001b[0m\u001b[0mwarning\u001b[0m\u001b[0;34m(\u001b[0m\u001b[0;34m\"Invalid Message:\"\u001b[0m\u001b[0;34m,\u001b[0m \u001b[0mexc_info\u001b[0m\u001b[0;34m=\u001b[0m\u001b[0;32mTrue\u001b[0m\u001b[0;34m)\u001b[0m\u001b[0;34m\u001b[0m\u001b[0;34m\u001b[0m\u001b[0m\n",
            "\u001b[0;31mKeyboardInterrupt\u001b[0m: Interrupted by user"
          ]
        }
      ],
      "source": [
        "# Definición de la matriz de lotes disponibles\n",
        "lotes_disponibles = [['', '', '', '', ''],\n",
        "                     ['', '', '', '', ''],\n",
        "                     ['', '', '', '', ''],\n",
        "                     ['', '', '', '', '']]\n",
        "\n",
        "# Lista de lotes seleccionados por los clientes\n",
        "lotes_seleccionados = []\n",
        "\n",
        "# Lista de clientes que han comprado un lote\n",
        "clientes = []\n",
        "\n",
        "# Función para mostrar la matriz de lotes disponibles\n",
        "def mostrar_lotes_disponibles():\n",
        "    print(\"Lotes Disponibles:\")\n",
        "    for fila in lotes_disponibles:\n",
        "        for lote in fila:\n",
        "            print(f\"[{lote}]\", end=' ')\n",
        "        print()\n",
        "\n",
        "# Función para seleccionar un lote y obtener los detalles del cliente\n",
        "def seleccionar_lote():\n",
        "    rut = input(\"Ingresa tu RUT: \")\n",
        "    nombre = input(\"Ingresa tu nombre: \")\n",
        "    telefono = input(\"Ingresa tu número de teléfono: \")\n",
        "    email = input(\"Ingresa tu dirección de email: \")\n",
        "    fila = int(input(\"Ingresa la fila del lote: \"))\n",
        "    columna = int(input(\"Ingresa la columna del lote: \"))\n",
        "\n",
        "    if fila < 0 or fila >= len(lotes_disponibles) or columna < 0 or columna >= len(lotes_disponibles[0]):\n",
        "        print(\"Coordenadas inválidas. Elige otro lote.\")\n",
        "    elif lotes_disponibles[fila][columna] == 'X':\n",
        "        print(\"El lote no disponible. Elige otro lote.\")\n",
        "    else:\n",
        "        lote_seleccionado = {\n",
        "            'RUT': rut,\n",
        "            'Nombre': nombre,\n",
        "            'Teléfono': telefono,\n",
        "            'Email': email,\n",
        "            'Fila': fila,\n",
        "            'Columna': columna\n",
        "        }\n",
        "        lotes_seleccionados.append(lote_seleccionado)\n",
        "        lotes_disponibles[fila][columna] = 'X'\n",
        "        print(\"Lote seleccionado.\")\n",
        "\n",
        "# Función para mostrar los detalles del lote seleccionado\n",
        "def mostrar_detalles_lote():\n",
        "    fila = int(input(\"Ingresa la fila del lote seleccionado: \"))\n",
        "    columna = int(input(\"Ingresa la columna del lote seleccionado: \"))\n",
        "\n",
        "    for lote in lotes_seleccionados:\n",
        "        if lote['Fila'] == fila and lote['Columna'] == columna:\n",
        "            print(\"Detalles del lote seleccionado:\")\n",
        "            print(f\"Número de lote: {lote['Fila']}-{lote['Columna']}\")\n",
        "            print(\"Tamaño del terreno: (10 Kilometros Cuadrados)\")\n",
        "            print(\"Precio: ($100.000.000)\")\n",
        "            return\n",
        "\n",
        "    print(\"No se encontraron detalles para el lote seleccionado.\")\n",
        "\n",
        "# Función para mostrar la lista de clientes que han comprado un lote\n",
        "def mostrar_clientes():\n",
        "    print(\"Clientes que han comprado un lote:\")\n",
        "    for cliente in lotes_seleccionados:\n",
        "        print(f\"RUT: {cliente['RUT']}, Nombre: {cliente['Nombre']}, Teléfono: {cliente['Teléfono']}, Email: {cliente['Email']}\")\n",
        "        fila = cliente['Fila']\n",
        "        columna = cliente['Columna']\n",
        "        print(f\"Lote seleccionado: {fila}-{columna}\")\n",
        "        print(\"Detalles del lote:\")\n",
        "        print(f\"Número de lote: {fila}-{columna}\")\n",
        "        print(\"-------------------\")\n",
        "\n",
        "# Función principal que ejecuta el programa\n",
        "def final():\n",
        "    while True:\n",
        "        print(\"--- Menú ---\")\n",
        "        print(\"1. Ver disponibilidad de lotes\")\n",
        "        print(\"2. Seleccionar un lote\")\n",
        "        print(\"3. Ver detalles del lote seleccionado\")\n",
        "        print(\"4. Ver clientes\")\n",
        "        print(\"5. Salir\")\n",
        "        opcion = input(\"Ingrese su opción (1-5): \")\n",
        "\n",
        "        if opcion == '1':\n",
        "            import os\n",
        "            os.system (\"cls\")\n",
        "            mostrar_lotes_disponibles()\n",
        "        elif opcion == '2':\n",
        "            import os\n",
        "            os.system (\"cls\")\n",
        "            seleccionar_lote()\n",
        "        elif opcion == '3':\n",
        "            import os\n",
        "            os.system (\"cls\")\n",
        "            mostrar_detalles_lote()\n",
        "        elif opcion == '4':\n",
        "            mostrar_clientes()\n",
        "        elif opcion == '5':\n",
        "            print(\"Que Pase Un Buen Dia!!\")\n",
        "            break\n",
        "        else:\n",
        "            print(\"Opción inválida, Ingrese una opción válida (1-5).\")\n",
        "\n",
        "# Ejecución del programa\n",
        "final()"
      ]
    }
  ]
}